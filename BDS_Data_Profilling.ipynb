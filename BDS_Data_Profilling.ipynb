{
 "cells": [
  {
   "cell_type": "markdown",
   "metadata": {},
   "source": [
    "## Data Profilling Config\n",
    "\n",
    "To create a configuration file for execution the data engineering steps - eventually leading to **DAG Graph** kind of execution.\n",
    "\n",
    "Advantages\n",
    "\n",
    "* readablity\n",
    "* DAG - Quick execution\n",
    "    * Ignore unncessary ones\n",
    "* quick development\n",
    "\n",
    "Str-Column:\n",
    "\n",
    "* length\n",
    "* total length with out spaces\n",
    "* no.of words\n",
    "\n",
    "Str-Column:\n",
    "\n",
    "* differences btw lengths\n",
    "* no.of common words\n",
    "    \n",
    "Approximate string matching\n",
    "\n",
    "\n",
    "\n",
    "\n",
    "pip install fuzzywuzzy\n",
    "\n",
    "* levistein deistance\n",
    "* qratio\n",
    "* wratio\n",
    "* token set ratio\n",
    "* \n",
    "   \n",
    "## THRESHOLDS - HOLDS \n",
    "\n",
    "* set up a boolean function that it won't works.\n",
    "* if it break executing anywhere - what values should I keep?\n",
    "\n",
    "https://github.com/abhishekkrthakur/is_that_a_duplicate_quora_question/blob/master/feature_engineering.py\n",
    "\n",
    "https://www.slideshare.net/abhishekkrthakur/is-that-a-duplicate-quora-question"
   ]
  },
  {
   "cell_type": "markdown",
   "metadata": {},
   "source": [
    "http://c3js.org/examples.html\n",
    "\n",
    "https://github.com/d3/d3\n",
    "\n",
    "https://github.com/densitydesign/raw\n",
    "\n",
    "https://gitlab.pramati.com/sampath.maddula/big-data-studio/boards"
   ]
  },
  {
   "cell_type": "code",
   "execution_count": 1,
   "metadata": {
    "collapsed": true
   },
   "outputs": [],
   "source": [
    "import pandas as pd"
   ]
  },
  {
   "cell_type": "raw",
   "metadata": {
    "scrolled": true
   },
   "source": [
    "df = pd.read_csv('/Users/sampathm/seaborn-data/iris.csv')\n",
    "\n",
    "df.head()"
   ]
  },
  {
   "cell_type": "code",
   "execution_count": 2,
   "metadata": {},
   "outputs": [
    {
     "name": "stdout",
     "output_type": "stream",
     "text": [
      "\"id\",\"qid1\",\"qid2\",\"question1\",\"question2\",\"is_duplicate\"\r",
      "\r\n",
      "\"0\",\"1\",\"2\",\"What is the step by step guide to invest in share market in india?\",\"What is the step by step guide to invest in share market?\",\"0\"\r",
      "\r\n",
      "\"1\",\"3\",\"4\",\"What is the story of Kohinoor (Koh-i-Noor) Diamond?\",\"What would happen if the Indian government stole the Kohinoor (Koh-i-Noor) diamond back?\",\"0\"\r",
      "\r\n",
      "\"2\",\"5\",\"6\",\"How can I increase the speed of my internet connection while using a VPN?\",\"How can Internet speed be increased by hacking through DNS?\",\"0\"\r",
      "\r\n",
      "\"3\",\"7\",\"8\",\"Why am I mentally very lonely? How can I solve it?\",\"Find the remainder when [math]23^{24}[/math] is divided by 24,23?\",\"0\"\r",
      "\r\n",
      "\"4\",\"9\",\"10\",\"Which one dissolve in water quikly sugar, salt, methane and carbon di oxide?\",\"Which fish would survive in salt water?\",\"0\"\r",
      "\r\n",
      "\"5\",\"11\",\"12\",\"Astrology: I am a Capricorn Sun Cap moon and cap rising...what does that say about me?\",\"I'm a triple Capricorn (Sun, Moon and ascendant in Capricorn) What does this say about me?\",\"1\"\r",
      "\r\n",
      "\"6\",\"13\",\"14\",\"Should I buy tiago?\",\"What keeps childern active and far from phone and video games?\",\"0\"\r",
      "\r\n",
      "\"7\",\"15\",\"16\",\"How can I be a good geologist?\",\"What should I do to be a great geologist?\",\"1\"\r",
      "\r\n",
      "\"8\",\"17\",\"18\",\"When do you use シ instead of し?\",\"When do you use \"\"&\"\" instead of \"\"and\"\"?\",\"0\"\r",
      "\r\n"
     ]
    }
   ],
   "source": [
    "!head /Users/sampathm/Downloads/train.csv"
   ]
  },
  {
   "cell_type": "code",
   "execution_count": 3,
   "metadata": {
    "collapsed": true
   },
   "outputs": [],
   "source": [
    "df = pd.read_csv('/Users/sampathm/Downloads/train.csv')"
   ]
  },
  {
   "cell_type": "code",
   "execution_count": 4,
   "metadata": {},
   "outputs": [
    {
     "data": {
      "text/plain": [
       "(404290, 6)"
      ]
     },
     "execution_count": 4,
     "metadata": {},
     "output_type": "execute_result"
    }
   ],
   "source": [
    "df.shape"
   ]
  },
  {
   "cell_type": "code",
   "execution_count": 6,
   "metadata": {},
   "outputs": [
    {
     "data": {
      "text/html": [
       "<div>\n",
       "<style>\n",
       "    .dataframe thead tr:only-child th {\n",
       "        text-align: right;\n",
       "    }\n",
       "\n",
       "    .dataframe thead th {\n",
       "        text-align: left;\n",
       "    }\n",
       "\n",
       "    .dataframe tbody tr th {\n",
       "        vertical-align: top;\n",
       "    }\n",
       "</style>\n",
       "<table border=\"1\" class=\"dataframe\">\n",
       "  <thead>\n",
       "    <tr style=\"text-align: right;\">\n",
       "      <th></th>\n",
       "      <th>id</th>\n",
       "      <th>qid1</th>\n",
       "      <th>qid2</th>\n",
       "      <th>question1</th>\n",
       "      <th>question2</th>\n",
       "      <th>is_duplicate</th>\n",
       "    </tr>\n",
       "  </thead>\n",
       "  <tbody>\n",
       "    <tr>\n",
       "      <th>0</th>\n",
       "      <td>0</td>\n",
       "      <td>1</td>\n",
       "      <td>2</td>\n",
       "      <td>What is the step by step guide to invest in sh...</td>\n",
       "      <td>What is the step by step guide to invest in sh...</td>\n",
       "      <td>0</td>\n",
       "    </tr>\n",
       "    <tr>\n",
       "      <th>1</th>\n",
       "      <td>1</td>\n",
       "      <td>3</td>\n",
       "      <td>4</td>\n",
       "      <td>What is the story of Kohinoor (Koh-i-Noor) Dia...</td>\n",
       "      <td>What would happen if the Indian government sto...</td>\n",
       "      <td>0</td>\n",
       "    </tr>\n",
       "    <tr>\n",
       "      <th>2</th>\n",
       "      <td>2</td>\n",
       "      <td>5</td>\n",
       "      <td>6</td>\n",
       "      <td>How can I increase the speed of my internet co...</td>\n",
       "      <td>How can Internet speed be increased by hacking...</td>\n",
       "      <td>0</td>\n",
       "    </tr>\n",
       "    <tr>\n",
       "      <th>3</th>\n",
       "      <td>3</td>\n",
       "      <td>7</td>\n",
       "      <td>8</td>\n",
       "      <td>Why am I mentally very lonely? How can I solve...</td>\n",
       "      <td>Find the remainder when [math]23^{24}[/math] i...</td>\n",
       "      <td>0</td>\n",
       "    </tr>\n",
       "    <tr>\n",
       "      <th>4</th>\n",
       "      <td>4</td>\n",
       "      <td>9</td>\n",
       "      <td>10</td>\n",
       "      <td>Which one dissolve in water quikly sugar, salt...</td>\n",
       "      <td>Which fish would survive in salt water?</td>\n",
       "      <td>0</td>\n",
       "    </tr>\n",
       "  </tbody>\n",
       "</table>\n",
       "</div>"
      ],
      "text/plain": [
       "   id  qid1  qid2                                          question1  \\\n",
       "0   0     1     2  What is the step by step guide to invest in sh...   \n",
       "1   1     3     4  What is the story of Kohinoor (Koh-i-Noor) Dia...   \n",
       "2   2     5     6  How can I increase the speed of my internet co...   \n",
       "3   3     7     8  Why am I mentally very lonely? How can I solve...   \n",
       "4   4     9    10  Which one dissolve in water quikly sugar, salt...   \n",
       "\n",
       "                                           question2  is_duplicate  \n",
       "0  What is the step by step guide to invest in sh...             0  \n",
       "1  What would happen if the Indian government sto...             0  \n",
       "2  How can Internet speed be increased by hacking...             0  \n",
       "3  Find the remainder when [math]23^{24}[/math] i...             0  \n",
       "4            Which fish would survive in salt water?             0  "
      ]
     },
     "execution_count": 6,
     "metadata": {},
     "output_type": "execute_result"
    }
   ],
   "source": [
    "df.head()"
   ]
  },
  {
   "cell_type": "code",
   "execution_count": 7,
   "metadata": {
    "collapsed": true
   },
   "outputs": [],
   "source": [
    "data = df.head(500)"
   ]
  },
  {
   "cell_type": "code",
   "execution_count": 8,
   "metadata": {},
   "outputs": [
    {
     "ename": "ModuleNotFoundError",
     "evalue": "No module named 'cPickle'",
     "output_type": "error",
     "traceback": [
      "\u001b[0;31m---------------------------------------------------------------------------\u001b[0m",
      "\u001b[0;31mModuleNotFoundError\u001b[0m                       Traceback (most recent call last)",
      "\u001b[0;32m<ipython-input-8-f803895f2365>\u001b[0m in \u001b[0;36m<module>\u001b[0;34m()\u001b[0m\n\u001b[0;32m----> 1\u001b[0;31m \u001b[0;32mimport\u001b[0m \u001b[0mcPickle\u001b[0m\u001b[0;34m\u001b[0m\u001b[0m\n\u001b[0m\u001b[1;32m      2\u001b[0m \u001b[0;32mimport\u001b[0m \u001b[0mpandas\u001b[0m \u001b[0;32mas\u001b[0m \u001b[0mpd\u001b[0m\u001b[0;34m\u001b[0m\u001b[0m\n\u001b[1;32m      3\u001b[0m \u001b[0;32mimport\u001b[0m \u001b[0mnumpy\u001b[0m \u001b[0;32mas\u001b[0m \u001b[0mnp\u001b[0m\u001b[0;34m\u001b[0m\u001b[0m\n\u001b[1;32m      4\u001b[0m \u001b[0;32mimport\u001b[0m \u001b[0mgensim\u001b[0m\u001b[0;34m\u001b[0m\u001b[0m\n\u001b[1;32m      5\u001b[0m \u001b[0;32mfrom\u001b[0m \u001b[0mfuzzywuzzy\u001b[0m \u001b[0;32mimport\u001b[0m \u001b[0mfuzz\u001b[0m\u001b[0;34m\u001b[0m\u001b[0m\n",
      "\u001b[0;31mModuleNotFoundError\u001b[0m: No module named 'cPickle'"
     ]
    }
   ],
   "source": [
    "\n",
    "import pandas as pd\n",
    "import numpy as np\n",
    "import gensim\n",
    "from fuzzywuzzy import fuzz\n",
    "from nltk.corpus import stopwords\n",
    "from tqdm import tqdm\n",
    "from scipy.stats import skew, kurtosis\n",
    "from scipy.spatial.distance import cosine, cityblock, jaccard, canberra, euclidean, minkowski, braycurtis\n",
    "from nltk import word_tokenize\n",
    "stop_words = stopwords.words('english')"
   ]
  },
  {
   "cell_type": "code",
   "execution_count": 10,
   "metadata": {},
   "outputs": [
    {
     "name": "stdout",
     "output_type": "stream",
     "text": [
      "Collecting fuzzywuzzy\n",
      "  Downloading fuzzywuzzy-0.16.0-py2.py3-none-any.whl\n",
      "Requirement already satisfied: tqdm in /Users/sampathm/miniconda3/lib/python3.6/site-packages\n",
      "Installing collected packages: fuzzywuzzy\n",
      "Successfully installed fuzzywuzzy-0.16.0\n"
     ]
    }
   ],
   "source": [
    "!pip install fuzzywuzzy tqdm "
   ]
  },
  {
   "cell_type": "code",
   "execution_count": 13,
   "metadata": {},
   "outputs": [
    {
     "name": "stderr",
     "output_type": "stream",
     "text": [
      "/Users/sampathm/miniconda3/lib/python3.6/site-packages/fuzzywuzzy/fuzz.py:35: UserWarning: Using slow pure-python SequenceMatcher. Install python-Levenshtein to remove this warning\n",
      "  warnings.warn('Using slow pure-python SequenceMatcher. Install python-Levenshtein to remove this warning')\n"
     ]
    }
   ],
   "source": [
    "data = df.head(500)\n",
    "\n",
    "data = data.drop(['id', 'qid1', 'qid2'], axis=1)\n",
    "\n",
    "from fuzzywuzzy import fuzz\n",
    "\n",
    "data['len_q1'] = data.question1.apply(lambda x: len(str(x)))\n",
    "data['len_q2'] = data.question2.apply(lambda x: len(str(x)))\n",
    "data['diff_len'] = data.len_q1 - data.len_q2\n",
    "\n",
    "\n",
    "data['len_char_q1'] = data.question1.apply(lambda x: len(''.join(set(str(x).replace(' ', '')))))\n",
    "data['len_char_q2'] = data.question2.apply(lambda x: len(''.join(set(str(x).replace(' ', '')))))\n",
    "data['len_word_q1'] = data.question1.apply(lambda x: len(str(x).split()))\n",
    "data['len_word_q2'] = data.question2.apply(lambda x: len(str(x).split()))\n",
    "data['common_words'] = data.apply(lambda x: len(set(str(x['question1']).lower().split()).intersection(set(str(x['question2']).lower().split()))), axis=1)\n",
    "data['fuzz_qratio'] = data.apply(lambda x: fuzz.QRatio(str(x['question1']), str(x['question2'])), axis=1)\n",
    "data['fuzz_WRatio'] = data.apply(lambda x: fuzz.WRatio(str(x['question1']), str(x['question2'])), axis=1)\n",
    "data['fuzz_partial_ratio'] = data.apply(lambda x: fuzz.partial_ratio(str(x['question1']), str(x['question2'])), axis=1)\n",
    "data['fuzz_partial_token_set_ratio'] = data.apply(lambda x: fuzz.partial_token_set_ratio(str(x['question1']), str(x['question2'])), axis=1)\n",
    "data['fuzz_partial_token_sort_ratio'] = data.apply(lambda x: fuzz.partial_token_sort_ratio(str(x['question1']), str(x['question2'])), axis=1)\n",
    "data['fuzz_token_set_ratio'] = data.apply(lambda x: fuzz.token_set_ratio(str(x['question1']), str(x['question2'])), axis=1)\n",
    "data['fuzz_token_sort_ratio'] = data.apply(lambda x: fuzz.token_sort_ratio(str(x['question1']), str(x['question2'])), axis=1)\n"
   ]
  },
  {
   "cell_type": "code",
   "execution_count": 15,
   "metadata": {},
   "outputs": [
    {
     "data": {
      "text/html": [
       "<div>\n",
       "<style>\n",
       "    .dataframe thead tr:only-child th {\n",
       "        text-align: right;\n",
       "    }\n",
       "\n",
       "    .dataframe thead th {\n",
       "        text-align: left;\n",
       "    }\n",
       "\n",
       "    .dataframe tbody tr th {\n",
       "        vertical-align: top;\n",
       "    }\n",
       "</style>\n",
       "<table border=\"1\" class=\"dataframe\">\n",
       "  <thead>\n",
       "    <tr style=\"text-align: right;\">\n",
       "      <th></th>\n",
       "      <th>question1</th>\n",
       "      <th>question2</th>\n",
       "      <th>is_duplicate</th>\n",
       "      <th>len_q1</th>\n",
       "      <th>len_q2</th>\n",
       "      <th>diff_len</th>\n",
       "      <th>len_char_q1</th>\n",
       "      <th>len_char_q2</th>\n",
       "      <th>len_word_q1</th>\n",
       "      <th>len_word_q2</th>\n",
       "      <th>common_words</th>\n",
       "      <th>fuzz_qratio</th>\n",
       "      <th>fuzz_WRatio</th>\n",
       "      <th>fuzz_partial_ratio</th>\n",
       "      <th>fuzz_partial_token_set_ratio</th>\n",
       "      <th>fuzz_partial_token_sort_ratio</th>\n",
       "      <th>fuzz_token_set_ratio</th>\n",
       "      <th>fuzz_token_sort_ratio</th>\n",
       "    </tr>\n",
       "  </thead>\n",
       "  <tbody>\n",
       "    <tr>\n",
       "      <th>0</th>\n",
       "      <td>What is the step by step guide to invest in sh...</td>\n",
       "      <td>What is the step by step guide to invest in sh...</td>\n",
       "      <td>0</td>\n",
       "      <td>66</td>\n",
       "      <td>57</td>\n",
       "      <td>9</td>\n",
       "      <td>20</td>\n",
       "      <td>20</td>\n",
       "      <td>14</td>\n",
       "      <td>12</td>\n",
       "      <td>10</td>\n",
       "      <td>93</td>\n",
       "      <td>95</td>\n",
       "      <td>98</td>\n",
       "      <td>100</td>\n",
       "      <td>88</td>\n",
       "      <td>100</td>\n",
       "      <td>93</td>\n",
       "    </tr>\n",
       "    <tr>\n",
       "      <th>1</th>\n",
       "      <td>What is the story of Kohinoor (Koh-i-Noor) Dia...</td>\n",
       "      <td>What would happen if the Indian government sto...</td>\n",
       "      <td>0</td>\n",
       "      <td>51</td>\n",
       "      <td>88</td>\n",
       "      <td>-37</td>\n",
       "      <td>21</td>\n",
       "      <td>29</td>\n",
       "      <td>8</td>\n",
       "      <td>13</td>\n",
       "      <td>4</td>\n",
       "      <td>66</td>\n",
       "      <td>86</td>\n",
       "      <td>73</td>\n",
       "      <td>100</td>\n",
       "      <td>73</td>\n",
       "      <td>86</td>\n",
       "      <td>63</td>\n",
       "    </tr>\n",
       "  </tbody>\n",
       "</table>\n",
       "</div>"
      ],
      "text/plain": [
       "                                           question1  \\\n",
       "0  What is the step by step guide to invest in sh...   \n",
       "1  What is the story of Kohinoor (Koh-i-Noor) Dia...   \n",
       "\n",
       "                                           question2  is_duplicate  len_q1  \\\n",
       "0  What is the step by step guide to invest in sh...             0      66   \n",
       "1  What would happen if the Indian government sto...             0      51   \n",
       "\n",
       "   len_q2  diff_len  len_char_q1  len_char_q2  len_word_q1  len_word_q2  \\\n",
       "0      57         9           20           20           14           12   \n",
       "1      88       -37           21           29            8           13   \n",
       "\n",
       "   common_words  fuzz_qratio  fuzz_WRatio  fuzz_partial_ratio  \\\n",
       "0            10           93           95                  98   \n",
       "1             4           66           86                  73   \n",
       "\n",
       "   fuzz_partial_token_set_ratio  fuzz_partial_token_sort_ratio  \\\n",
       "0                           100                             88   \n",
       "1                           100                             73   \n",
       "\n",
       "   fuzz_token_set_ratio  fuzz_token_sort_ratio  \n",
       "0                   100                     93  \n",
       "1                    86                     63  "
      ]
     },
     "execution_count": 15,
     "metadata": {},
     "output_type": "execute_result"
    }
   ],
   "source": [
    "data.head(2)"
   ]
  },
  {
   "cell_type": "code",
   "execution_count": 16,
   "metadata": {
    "collapsed": true
   },
   "outputs": [],
   "source": [
    "new_df = df.head(5)"
   ]
  },
  {
   "cell_type": "code",
   "execution_count": 17,
   "metadata": {},
   "outputs": [
    {
     "name": "stdout",
     "output_type": "stream",
     "text": [
      "<class 'pandas.core.frame.DataFrame'>\n",
      "RangeIndex: 5 entries, 0 to 4\n",
      "Data columns (total 6 columns):\n",
      "id              5 non-null int64\n",
      "qid1            5 non-null int64\n",
      "qid2            5 non-null int64\n",
      "question1       5 non-null object\n",
      "question2       5 non-null object\n",
      "is_duplicate    5 non-null int64\n",
      "dtypes: int64(4), object(2)\n",
      "memory usage: 320.0+ bytes\n"
     ]
    }
   ],
   "source": [
    "new_df.info()"
   ]
  },
  {
   "cell_type": "code",
   "execution_count": 18,
   "metadata": {
    "collapsed": true
   },
   "outputs": [],
   "source": [
    "data_description = {\n",
    "    'question1' : 'str',\n",
    "    'question2' : 'str',\n",
    "}\n",
    "\n",
    "data_engineering_config = {\n",
    "    'id' : 'drop',\n",
    "    'qid1' : 'drop',\n",
    "    'qid2' : 'drop',\n",
    "    'col1' : 'question1',\n",
    "    'col2' : 'question2',\n",
    "    'col3' : [\n",
    "                ('col1'), # list of required params\n",
    "                (lambda x: str(x).upper()), # transformation function\n",
    "             ]\n",
    "}\n",
    "\n"
   ]
  },
  {
   "cell_type": "raw",
   "metadata": {},
   "source": [
    "another_config_format = [\n",
    "    ('old_column_name', 'drop')\n",
    "    ('new_column_name', ['list of required columns'], 'function_namne'), #\n",
    "]"
   ]
  },
  {
   "cell_type": "code",
   "execution_count": 321,
   "metadata": {},
   "outputs": [
    {
     "name": "stdout",
     "output_type": "stream",
     "text": [
      "Index(['question1', 'question2', 'is_duplicate'], dtype='object')\n"
     ]
    }
   ],
   "source": [
    "new_df = df.head(5)\n",
    "\n",
    "\n",
    "new_df = new_df.drop(['id', 'qid1', 'qid2'], axis=1)\n",
    "\n",
    "print(new_df.columns)\n",
    "\n",
    "# user - drop function iteself -- it is smooth\n",
    "\n",
    "'''\n",
    "data['len_q1'] = data.question1.apply(lambda x: len(str(x)))\n",
    "data['len_q2'] = data.question2.apply(lambda x: len(str(x)))\n",
    "data['diff_len'] = data.len_q1 - data.len_q2\n",
    "'''\n",
    "\n",
    "# Apply 1 new column 1 old columns\n",
    "data_engineering_config = [\n",
    "    ('len_q1', 'question1', lambda x: len(str(x))),\n",
    "    ('len_q2', 'question2', lambda x: len(str(x))),\n",
    "    ('diff_len', ['len_q1', 'len_q2'], lambda x: x.len_q1 - x.len_q2)\n",
    "]\n",
    "\n",
    "\n",
    "for new_column, required_col, function in data_engineering_config:\n",
    "    if type(required_col) == str:\n",
    "        # ONLY ONE COLUMN\n",
    "        new_df[new_column] = new_df[required_col].apply(function)\n",
    "    if type(required_col) == list:\n",
    "        # Multi-column - axis=1\n",
    "        new_df[new_column] = new_df[required_col].apply(function, axis=1)"
   ]
  },
  {
   "cell_type": "code",
   "execution_count": 231,
   "metadata": {
    "collapsed": true
   },
   "outputs": [],
   "source": [
    "engineerin_tree_display = [\n",
    "    ('new_df', new_df.columns.tolist()),\n",
    "]"
   ]
  },
  {
   "cell_type": "markdown",
   "metadata": {},
   "source": [
    "## visualize"
   ]
  },
  {
   "cell_type": "code",
   "execution_count": 232,
   "metadata": {
    "collapsed": true
   },
   "outputs": [],
   "source": [
    "from pprint import pprint"
   ]
  },
  {
   "cell_type": "code",
   "execution_count": 322,
   "metadata": {},
   "outputs": [
    {
     "name": "stdout",
     "output_type": "stream",
     "text": [
      "['Parent Node', 'Child Node']\n",
      "[('new-df', ['question1', 'question2', 'is_duplicate']),\n",
      " ('question1', 'len_q1'),\n",
      " ('question2', 'len_q2'),\n",
      " (['len_q1', 'len_q2'], 'diff_len')]\n"
     ]
    }
   ],
   "source": [
    "tree_data = [('new-df', ['question1', 'question2', 'is_duplicate'])] + [(b, a) for a, b, c in data_engineering_config]\n",
    "\n",
    "print(['Parent Node', 'Child Node'])\n",
    "pprint(tree_data)"
   ]
  },
  {
   "cell_type": "code",
   "execution_count": 323,
   "metadata": {},
   "outputs": [
    {
     "name": "stdout",
     "output_type": "stream",
     "text": [
      "=============================================\n",
      "[('new-df', 'question1'), ('new-df', 'question2'), ('new-df', 'is_duplicate')]\n",
      "=============================================\n",
      "[('new-df', 'question1'),\n",
      " ('new-df', 'question2'),\n",
      " ('new-df', 'is_duplicate'),\n",
      " ('question1', 'len_q1')]\n",
      "=============================================\n",
      "[('new-df', 'question1'),\n",
      " ('new-df', 'question2'),\n",
      " ('new-df', 'is_duplicate'),\n",
      " ('question1', 'len_q1'),\n",
      " ('question2', 'len_q2')]\n",
      "=============================================\n",
      "[('new-df', 'question1'),\n",
      " ('new-df', 'question2'),\n",
      " ('new-df', 'is_duplicate'),\n",
      " ('question1', 'len_q1'),\n",
      " ('question2', 'len_q2'),\n",
      " ('len_q1', 'diff_len'),\n",
      " ('len_q2', 'diff_len')]\n"
     ]
    }
   ],
   "source": [
    "nodes_dict = list()\n",
    "\n",
    "def created_child_node(root, child):\n",
    "#     nodes_dict[root] = Node(child, root)\n",
    "    pass\n",
    "\n",
    "def one_to_one(parent, child):\n",
    "    nodes_dict.append((parent, child))\n",
    "\n",
    "def one_to_many(parent, alist):\n",
    "    for each in alist:\n",
    "        nodes_dict.append((parent, each))\n",
    "\n",
    "def many_to_one(alist, child):\n",
    "    for each in alist:\n",
    "        nodes_dict.append((each, child))\n",
    "\n",
    "def many_to_many(alist1, alist2):\n",
    "    for each1 in alist1:\n",
    "        for each2 in alist2:\n",
    "            nodes_dict.append((each1, each2))\n",
    "\n",
    "            \n",
    "fns_mapping = {\n",
    "    (str, str): one_to_one,\n",
    "    (str, list): one_to_many,\n",
    "    (list, str): many_to_one,\n",
    "    (list, list): many_to_many,\n",
    "}\n",
    "\n",
    "for root, dependencies in tree_data:\n",
    "    print('===' * 15)\n",
    "    fns_mapping[(root.__class__, dependencies.__class__)](root, dependencies)\n",
    "    pprint(nodes_dict)\n"
   ]
  },
  {
   "cell_type": "code",
   "execution_count": null,
   "metadata": {},
   "outputs": [],
   "source": []
  },
  {
   "cell_type": "code",
   "execution_count": 324,
   "metadata": {
    "collapsed": true
   },
   "outputs": [],
   "source": [
    "all_nodes = [_[0] for _ in nodes_dict] + [_[-1] for _ in nodes_dict]"
   ]
  },
  {
   "cell_type": "code",
   "execution_count": 325,
   "metadata": {},
   "outputs": [],
   "source": [
    "nx.draw_shell??"
   ]
  },
  {
   "cell_type": "code",
   "execution_count": 342,
   "metadata": {
    "collapsed": true
   },
   "outputs": [],
   "source": [
    "g.add_edge??"
   ]
  },
  {
   "cell_type": "code",
   "execution_count": 363,
   "metadata": {},
   "outputs": [
    {
     "name": "stdout",
     "output_type": "stream",
     "text": [
      "new-df question1\n",
      "new-df question2\n",
      "new-df is_duplicate\n",
      "question1 len_q1\n",
      "question2 len_q2\n",
      "len_q1 diff_len\n",
      "len_q2 diff_len\n"
     ]
    },
    {
     "data": {
      "image/png": "[encoded data removed]",
      "text/plain": [
       "<matplotlib.figure.Figure at 0x1159f06a0>"
      ]
     },
     "metadata": {},
     "output_type": "display_data"
    }
   ],
   "source": [
    "import networkx as nx\n",
    "import matplotlib.pyplot as plt\n",
    "\n",
    "\n",
    "\n",
    "\n",
    "g = nx.MultiGraph()\n",
    "\n",
    "for a, b in nodes_dict:\n",
    "    print(a, b)\n",
    "    g.add_edge(a, b, width=8,alpha=0.5,edge_color='b')\n",
    "    \n",
    "g.nodes['new-df']['node_color']='b'\n",
    "\n",
    "# nx.draw(g, with_labels=True, node_size=2500, edge_cmap=plt.cm.Reds, alpha=0.8)\n",
    "nx.draw(g, with_labels=True)\n",
    "plt.draw()\n",
    "plt.show()\n"
   ]
  },
  {
   "cell_type": "code",
   "execution_count": 368,
   "metadata": {},
   "outputs": [
    {
     "data": {
      "image/png": "[encoded data removed]",
      "text/plain": [
       "<matplotlib.figure.Figure at 0x118fe36d8>"
      ]
     },
     "metadata": {},
     "output_type": "display_data"
    }
   ],
   "source": [
    "__author__ = \"\"\"Aric Hagberg (hagberg@lanl.gov)\"\"\"\n",
    "import matplotlib.pyplot as plt\n",
    "\n",
    "import networkx as nx\n",
    "\n",
    "G=nx.cubical_graph()\n",
    "pos=nx.spring_layout(G) # positions for all nodes\n",
    "\n",
    "# nodes\n",
    "nx.draw_networkx_nodes(G,pos,\n",
    "                       nodelist=[0,1,2,3],\n",
    "                       node_color='r',\n",
    "                       node_size=500,\n",
    "                   alpha=0.8)\n",
    "nx.draw_networkx_nodes(G,pos,\n",
    "                       nodelist=[4,5,6,7],\n",
    "                       node_color='b',\n",
    "                       node_size=500,\n",
    "                   alpha=0.8)\n",
    "\n",
    "# edges\n",
    "nx.draw_networkx_edges(G,pos,width=1.0,alpha=0.5)\n",
    "nx.draw_networkx_edges(G,pos,\n",
    "                       edgelist=[(0,1),(1,2),(2,3),(3,0)],\n",
    "                       width=8,alpha=0.5,edge_color='r')\n",
    "nx.draw_networkx_edges(G,pos,\n",
    "                       edgelist=[(4,5),(5,6),(6,7),(7,4)],\n",
    "                       width=8,alpha=0.5,edge_color='b')\n",
    "\n",
    "\n",
    "# some math labels\n",
    "labels={}\n",
    "labels[0]=r'$a$'\n",
    "labels[1]=r'$b$'\n",
    "labels[2]=r'$c$'\n",
    "labels[3]=r'$d$'\n",
    "labels[4]=r'$\\alpha$'\n",
    "labels[5]=r'$\\beta$'\n",
    "labels[6]=r'$\\gamma$'\n",
    "labels[7]=r'$\\delta$'\n",
    "nx.draw_networkx_labels(G,pos,labels,font_size=16)\n",
    "\n",
    "plt.axis('off')\n",
    "plt.savefig(\"labels_and_colors.png\") # save as png\n",
    "plt.show() # display\n"
   ]
  },
  {
   "cell_type": "code",
   "execution_count": null,
   "metadata": {
    "collapsed": true
   },
   "outputs": [],
   "source": []
  }
 ],
 "metadata": {
  "kernelspec": {
   "display_name": "Python 3",
   "language": "python",
   "name": "python3"
  },
  "language_info": {
   "codemirror_mode": {
    "name": "ipython",
    "version": 3
   },
   "file_extension": ".py",
   "mimetype": "text/x-python",
   "name": "python",
   "nbconvert_exporter": "python",
   "pygments_lexer": "ipython3",
   "version": "3.6.3"
  }
 },
 "nbformat": 4,
 "nbformat_minor": 2
}
